{
 "cells": [
  {
   "cell_type": "markdown",
   "metadata": {},
   "source": [
    "# Hill Climbing"
   ]
  },
  {
   "cell_type": "code",
   "execution_count": 3,
   "metadata": {},
   "outputs": [
    {
     "name": "stdout",
     "output_type": "stream",
     "text": [
      "[1, 3, 2, 4, 5] 62\n",
      "swap:1->3 and 2->4 [1, 2, 3, 4, 5]  cost=49\n",
      "swap:1->3 and 4->5 [1, 4, 2, 3, 5]  cost=28\n",
      "swap:3->2 and 5->1 [1, 3, 5, 4, 2]  cost=48\n",
      "swap:2->4 and 1->3 [4, 3, 2, 1, 5]  cost=36\n",
      "swap:4->5 and 3->2 [1, 5, 2, 4, 3]  cost=53\n",
      "[1, 4, 2, 3, 5] 28\n",
      "swap:1->4 and 2->3 [1, 2, 4, 3, 5]  cost=38\n",
      "swap:1->4 and 3->5 [1, 3, 2, 4, 5]  cost=62\n",
      "swap:4->2 and 5->1 [1, 4, 5, 3, 2]  cost=38\n",
      "swap:2->3 and 1->4 [3, 4, 2, 1, 5]  cost=38\n",
      "swap:3->5 and 4->2 [1, 5, 2, 3, 4]  cost=30\n"
     ]
    }
   ],
   "source": [
    "import math\n",
    "def cost(currentPath,distance,n):\n",
    "    cost=0\n",
    "    for i in range(n):\n",
    "        cost+=distance[currentPath[i]-1][currentPath[(i+1)%n]-1]\n",
    "    return cost\n",
    "    \n",
    "    \n",
    "    \n",
    "distance=[[math.inf,10,20,5,10],\n",
    "         [10,math.inf,2,10,6],\n",
    "         [20,2,math.inf,7,1], \n",
    "         [5,10,7,math.inf,20],\n",
    "         [10,6,1,7,20,math.inf]]\n",
    "\n",
    "cities=[1,2,3,4,5]\n",
    "n=5\n",
    "currentPath=[1,3,2,4,5]\n",
    "iteration=0\n",
    "while(True):\n",
    "    iteration+=1\n",
    "    print(currentPath,end=\" \")\n",
    "    costCurrent=cost(currentPath,distance,n)\n",
    "    print(costCurrent)\n",
    "    k=0\n",
    "    neighbor=[None]*5\n",
    "    c=[0]*5\n",
    "    has_swaped=[[0]*(n+1)]*(n+1)\n",
    "    for i in range(n):\n",
    "        for j in range(n-3):\n",
    "            t=(j+i+2)%n\n",
    "            if has_swaped[currentPath[i]][currentPath[t]]==0:\n",
    "                has_swaped[currentPath[i]][currentPath[t]]=1\n",
    "                neighbor[k]=currentPath.copy()\n",
    "                temp=neighbor[k][(i+1)%n]\n",
    "                neighbor[k][(i+1)%n]=neighbor[k][t]\n",
    "                neighbor[k][t]=temp\n",
    "                print(\"swap:\"+str(currentPath[i])+\"->\"+str(currentPath[(i+1)%n])+\" and \"+str(currentPath[t])+\"->\"+str(currentPath[(t+1)%n]),end=\" \")\n",
    "                print(neighbor[k], end=\"  \")\n",
    "                c[k]=cost(neighbor[k],distance,n)\n",
    "                print(\"cost=\"+str(c[k]) )\n",
    "                k+=1\n",
    "    minIndex=c.index(min(c))\n",
    "    if c[minIndex]<costCurrent:\n",
    "        currentPath=neighbor[minIndex].copy()\n",
    "    else:\n",
    "        break"
   ]
  },
  {
   "cell_type": "code",
   "execution_count": null,
   "metadata": {},
   "outputs": [],
   "source": []
  }
 ],
 "metadata": {
  "kernelspec": {
   "display_name": "Python 3",
   "language": "python",
   "name": "python3"
  },
  "language_info": {
   "codemirror_mode": {
    "name": "ipython",
    "version": 3
   },
   "file_extension": ".py",
   "mimetype": "text/x-python",
   "name": "python",
   "nbconvert_exporter": "python",
   "pygments_lexer": "ipython3",
   "version": "3.7.3"
  }
 },
 "nbformat": 4,
 "nbformat_minor": 4
}
