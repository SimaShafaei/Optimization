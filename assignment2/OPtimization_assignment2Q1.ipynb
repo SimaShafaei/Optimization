{
 "cells": [
  {
   "cell_type": "markdown",
   "metadata": {},
   "source": [
    "# exustive search for TSP"
   ]
  },
  {
   "cell_type": "markdown",
   "metadata": {},
   "source": [
    "### we need to create all possible permutation of all cites"
   ]
  },
  {
   "cell_type": "code",
   "execution_count": 21,
   "metadata": {},
   "outputs": [],
   "source": [
    "import math\n",
    "distance=[[math.inf,10,20,5],\n",
    "         [10,math.inf,2,10],\n",
    "         [20,2,math.inf,7], \n",
    "         [5,10,7,math.inf]]\n",
    "\n",
    "cities=[1,2,3,4]\n",
    "n=4"
   ]
  },
  {
   "cell_type": "code",
   "execution_count": 22,
   "metadata": {},
   "outputs": [
    {
     "name": "stdout",
     "output_type": "stream",
     "text": [
      "1\n"
     ]
    }
   ],
   "source": [
    "import itertools as iter\n",
    "tour=list(iter.permutations(cities))\n",
    "num_of_sol=len(possible_solutions)\n",
    "print(tour[0][0])"
   ]
  },
  {
   "cell_type": "code",
   "execution_count": 41,
   "metadata": {},
   "outputs": [
    {
     "name": "stdout",
     "output_type": "stream",
     "text": [
      "tour:city1-->city2-->city3-->city4-->city1     length:24\n",
      "tour:city1-->city2-->city4-->city3-->city1     length:47\n",
      "tour:city1-->city3-->city2-->city4-->city1     length:37\n",
      "tour:city1-->city3-->city4-->city2-->city1     length:47\n",
      "tour:city1-->city4-->city2-->city3-->city1     length:37\n",
      "tour:city1-->city4-->city3-->city2-->city1     length:24\n",
      "tour:city2-->city1-->city3-->city4-->city2     length:47\n",
      "tour:city2-->city1-->city4-->city3-->city2     length:24\n",
      "tour:city2-->city3-->city1-->city4-->city2     length:37\n",
      "tour:city2-->city3-->city4-->city1-->city2     length:24\n",
      "tour:city2-->city4-->city1-->city3-->city2     length:37\n",
      "tour:city2-->city4-->city3-->city1-->city2     length:47\n",
      "tour:city3-->city1-->city2-->city4-->city3     length:47\n",
      "tour:city3-->city1-->city4-->city2-->city3     length:37\n",
      "tour:city3-->city2-->city1-->city4-->city3     length:24\n",
      "tour:city3-->city2-->city4-->city1-->city3     length:37\n",
      "tour:city3-->city4-->city1-->city2-->city3     length:24\n",
      "tour:city3-->city4-->city2-->city1-->city3     length:47\n",
      "tour:city4-->city1-->city2-->city3-->city4     length:24\n",
      "tour:city4-->city1-->city3-->city2-->city4     length:37\n",
      "tour:city4-->city2-->city1-->city3-->city4     length:47\n",
      "tour:city4-->city2-->city3-->city1-->city4     length:37\n",
      "tour:city4-->city3-->city1-->city2-->city4     length:47\n",
      "tour:city4-->city3-->city2-->city1-->city4     length:24\n",
      "===========================================\n",
      "the length of minimum tour is:24\n",
      "and th list of optimal tours is as follows:\n",
      "city1-->city2-->city3-->city4-->city1\n",
      "city1-->city4-->city3-->city2-->city1\n",
      "city2-->city1-->city4-->city3-->city2\n",
      "city2-->city3-->city4-->city1-->city2\n",
      "city3-->city2-->city1-->city4-->city3\n",
      "city3-->city4-->city1-->city2-->city3\n",
      "city4-->city1-->city2-->city3-->city4\n",
      "city4-->city3-->city2-->city1-->city4\n"
     ]
    }
   ],
   "source": [
    "tourList=[\"\"]*num_of_sol\n",
    "tourLen=[0]*num_of_sol\n",
    "for i in range(num_of_sol):\n",
    "    pathLen=0\n",
    "    path=\"city\" +str(tour[i][0])+\"-->\"\n",
    "    for j in range(n):\n",
    "        pathLen+=distance[tour[i][j]-1][tour[i][(j+1)%n]-1]\n",
    "        path += \"city\" +str(tour[i][(j+1)%n])\n",
    "        if (j+1)!=n:\n",
    "            path+=\"-->\"\n",
    "            \n",
    "    tourList[i]=path\n",
    "    tourLen[i]=pathLen\n",
    "    print(\"tour:\"+path +\"     length:\"+str(pathLen))\n",
    "minPath=min(tourLen)   \n",
    "res = [i for i, j in enumerate(tourLen) if j == minPath]\n",
    "\n",
    "print(\"===========================================\")\n",
    "print(\"the length of minimum tour is:\"+str(minPath))\n",
    "print(\"and th list of optimal tours is as follows:\")\n",
    "for i in range(len(res)):\n",
    "    print(tourList[res[i]])"
   ]
  },
  {
   "cell_type": "code",
   "execution_count": null,
   "metadata": {},
   "outputs": [],
   "source": []
  }
 ],
 "metadata": {
  "kernelspec": {
   "display_name": "Python 3",
   "language": "python",
   "name": "python3"
  },
  "language_info": {
   "codemirror_mode": {
    "name": "ipython",
    "version": 3
   },
   "file_extension": ".py",
   "mimetype": "text/x-python",
   "name": "python",
   "nbconvert_exporter": "python",
   "pygments_lexer": "ipython3",
   "version": "3.7.3"
  }
 },
 "nbformat": 4,
 "nbformat_minor": 4
}
